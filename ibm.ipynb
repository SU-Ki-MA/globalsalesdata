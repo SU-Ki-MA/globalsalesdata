{
 "cells": [
  {
   "cell_type": "code",
   "execution_count": 3,
   "id": "697b665e",
   "metadata": {},
   "outputs": [],
   "source": [
    "import os\n",
    "os.environ['KAGGLE_USERNAME'] = \"sriramkarthickk\"\n",
    "os.environ['KAGGLE_KEY'] = \"498d9367562336e1b9076a3c240575eb\"\n",
    "\n",
    "from kaggle.api.kaggle_api_extended import KaggleApi\n",
    "api = KaggleApi()\n",
    "api.authenticate()"
   ]
  },
  {
   "cell_type": "code",
   "execution_count": 4,
   "id": "92e8fcfa",
   "metadata": {},
   "outputs": [],
   "source": [
    "api.dataset_download_files('apoorvaappz/global-super-store-dataset', path=\".\")"
   ]
  },
  {
   "cell_type": "code",
   "execution_count": 34,
   "id": "2353ea1f",
   "metadata": {},
   "outputs": [],
   "source": [
    "import pandas as pd\n",
    "import numpy as np"
   ]
  },
  {
   "cell_type": "code",
   "execution_count": 35,
   "id": "5478f814",
   "metadata": {},
   "outputs": [],
   "source": [
    "dataFrame=pd.read_csv(\"./global-super-store-dataset/Global_Superstore2.csv\") "
   ]
  },
  {
   "cell_type": "code",
   "execution_count": 48,
   "id": "6f1cbdd1",
   "metadata": {},
   "outputs": [],
   "source": [
    "dropingFields=[\"Row ID\",\"Order ID\",\"Order Date\",\"Ship Date\",\"Customer ID\",\"Customer Name\",\"Postal Code\",\"Product ID\"]\n",
    "dataFrame.drop(dropingFields,axis=1,inplace=True)"
   ]
  },
  {
   "cell_type": "code",
   "execution_count": 49,
   "id": "d96b9340",
   "metadata": {},
   "outputs": [
    {
     "data": {
      "text/plain": [
       "array([0, 1, 2, 3], dtype=int64)"
      ]
     },
     "execution_count": 49,
     "metadata": {},
     "output_type": "execute_result"
    }
   ],
   "source": [
    "dataFrame[\"Order Priority\"].unique()"
   ]
  },
  {
   "cell_type": "markdown",
   "id": "717a5283",
   "metadata": {},
   "source": [
    "# Changing Order priority to int \n",
    "### Critical - 0\n",
    "### medium - 1\n",
    "### High - 2\n",
    "### Low - 3\n"
   ]
  },
  {
   "cell_type": "code",
   "execution_count": 50,
   "id": "4b198eba",
   "metadata": {},
   "outputs": [
    {
     "data": {
      "text/html": [
       "<div>\n",
       "<style scoped>\n",
       "    .dataframe tbody tr th:only-of-type {\n",
       "        vertical-align: middle;\n",
       "    }\n",
       "\n",
       "    .dataframe tbody tr th {\n",
       "        vertical-align: top;\n",
       "    }\n",
       "\n",
       "    .dataframe thead th {\n",
       "        text-align: right;\n",
       "    }\n",
       "</style>\n",
       "<table border=\"1\" class=\"dataframe\">\n",
       "  <thead>\n",
       "    <tr style=\"text-align: right;\">\n",
       "      <th></th>\n",
       "      <th>Ship Mode</th>\n",
       "      <th>Segment</th>\n",
       "      <th>City</th>\n",
       "      <th>State</th>\n",
       "      <th>Country</th>\n",
       "      <th>Market</th>\n",
       "      <th>Region</th>\n",
       "      <th>Product Name</th>\n",
       "      <th>Sales</th>\n",
       "      <th>Quantity</th>\n",
       "      <th>Discount</th>\n",
       "      <th>Profit</th>\n",
       "      <th>Shipping Cost</th>\n",
       "      <th>Order Priority</th>\n",
       "      <th>Item Value</th>\n",
       "    </tr>\n",
       "  </thead>\n",
       "  <tbody>\n",
       "    <tr>\n",
       "      <th>0</th>\n",
       "      <td>Same Day</td>\n",
       "      <td>Consumer</td>\n",
       "      <td>New York City</td>\n",
       "      <td>New York</td>\n",
       "      <td>United States</td>\n",
       "      <td>US</td>\n",
       "      <td>East</td>\n",
       "      <td>Plantronics CS510 - Over-the-Head monaural Wir...</td>\n",
       "      <td>2309.650</td>\n",
       "      <td>7</td>\n",
       "      <td>0.0</td>\n",
       "      <td>762.1845</td>\n",
       "      <td>933.57</td>\n",
       "      <td>0</td>\n",
       "      <td>329.950</td>\n",
       "    </tr>\n",
       "    <tr>\n",
       "      <th>1</th>\n",
       "      <td>Second Class</td>\n",
       "      <td>Corporate</td>\n",
       "      <td>Wollongong</td>\n",
       "      <td>New South Wales</td>\n",
       "      <td>Australia</td>\n",
       "      <td>APAC</td>\n",
       "      <td>Oceania</td>\n",
       "      <td>Novimex Executive Leather Armchair, Black</td>\n",
       "      <td>3709.395</td>\n",
       "      <td>9</td>\n",
       "      <td>0.1</td>\n",
       "      <td>-288.7650</td>\n",
       "      <td>923.63</td>\n",
       "      <td>0</td>\n",
       "      <td>412.155</td>\n",
       "    </tr>\n",
       "    <tr>\n",
       "      <th>2</th>\n",
       "      <td>First Class</td>\n",
       "      <td>Consumer</td>\n",
       "      <td>Brisbane</td>\n",
       "      <td>Queensland</td>\n",
       "      <td>Australia</td>\n",
       "      <td>APAC</td>\n",
       "      <td>Oceania</td>\n",
       "      <td>Nokia Smart Phone, with Caller ID</td>\n",
       "      <td>5175.171</td>\n",
       "      <td>9</td>\n",
       "      <td>0.1</td>\n",
       "      <td>919.9710</td>\n",
       "      <td>915.49</td>\n",
       "      <td>1</td>\n",
       "      <td>575.019</td>\n",
       "    </tr>\n",
       "    <tr>\n",
       "      <th>3</th>\n",
       "      <td>First Class</td>\n",
       "      <td>Home Office</td>\n",
       "      <td>Berlin</td>\n",
       "      <td>Berlin</td>\n",
       "      <td>Germany</td>\n",
       "      <td>EU</td>\n",
       "      <td>Central</td>\n",
       "      <td>Motorola Smart Phone, Cordless</td>\n",
       "      <td>2892.510</td>\n",
       "      <td>5</td>\n",
       "      <td>0.1</td>\n",
       "      <td>-96.5400</td>\n",
       "      <td>910.16</td>\n",
       "      <td>1</td>\n",
       "      <td>578.502</td>\n",
       "    </tr>\n",
       "    <tr>\n",
       "      <th>4</th>\n",
       "      <td>Same Day</td>\n",
       "      <td>Consumer</td>\n",
       "      <td>Dakar</td>\n",
       "      <td>Dakar</td>\n",
       "      <td>Senegal</td>\n",
       "      <td>Africa</td>\n",
       "      <td>Africa</td>\n",
       "      <td>Sharp Wireless Fax, High-Speed</td>\n",
       "      <td>2832.960</td>\n",
       "      <td>8</td>\n",
       "      <td>0.0</td>\n",
       "      <td>311.5200</td>\n",
       "      <td>903.04</td>\n",
       "      <td>0</td>\n",
       "      <td>354.120</td>\n",
       "    </tr>\n",
       "    <tr>\n",
       "      <th>...</th>\n",
       "      <td>...</td>\n",
       "      <td>...</td>\n",
       "      <td>...</td>\n",
       "      <td>...</td>\n",
       "      <td>...</td>\n",
       "      <td>...</td>\n",
       "      <td>...</td>\n",
       "      <td>...</td>\n",
       "      <td>...</td>\n",
       "      <td>...</td>\n",
       "      <td>...</td>\n",
       "      <td>...</td>\n",
       "      <td>...</td>\n",
       "      <td>...</td>\n",
       "      <td>...</td>\n",
       "    </tr>\n",
       "    <tr>\n",
       "      <th>51285</th>\n",
       "      <td>Same Day</td>\n",
       "      <td>Corporate</td>\n",
       "      <td>Kure</td>\n",
       "      <td>Hiroshima</td>\n",
       "      <td>Japan</td>\n",
       "      <td>APAC</td>\n",
       "      <td>North Asia</td>\n",
       "      <td>Advantus Thumb Tacks, 12 Pack</td>\n",
       "      <td>65.100</td>\n",
       "      <td>5</td>\n",
       "      <td>0.0</td>\n",
       "      <td>4.5000</td>\n",
       "      <td>0.01</td>\n",
       "      <td>1</td>\n",
       "      <td>13.020</td>\n",
       "    </tr>\n",
       "    <tr>\n",
       "      <th>51286</th>\n",
       "      <td>Standard Class</td>\n",
       "      <td>Consumer</td>\n",
       "      <td>Houston</td>\n",
       "      <td>Texas</td>\n",
       "      <td>United States</td>\n",
       "      <td>US</td>\n",
       "      <td>Central</td>\n",
       "      <td>Hoover Replacement Belt for Commercial Guardsm...</td>\n",
       "      <td>0.444</td>\n",
       "      <td>1</td>\n",
       "      <td>0.8</td>\n",
       "      <td>-1.1100</td>\n",
       "      <td>0.01</td>\n",
       "      <td>1</td>\n",
       "      <td>0.444</td>\n",
       "    </tr>\n",
       "    <tr>\n",
       "      <th>51287</th>\n",
       "      <td>Same Day</td>\n",
       "      <td>Home Office</td>\n",
       "      <td>Oxnard</td>\n",
       "      <td>California</td>\n",
       "      <td>United States</td>\n",
       "      <td>US</td>\n",
       "      <td>West</td>\n",
       "      <td>#10- 4 1/8\" x 9 1/2\" Security-Tint Envelopes</td>\n",
       "      <td>22.920</td>\n",
       "      <td>3</td>\n",
       "      <td>0.0</td>\n",
       "      <td>11.2308</td>\n",
       "      <td>0.01</td>\n",
       "      <td>2</td>\n",
       "      <td>7.640</td>\n",
       "    </tr>\n",
       "    <tr>\n",
       "      <th>51288</th>\n",
       "      <td>Standard Class</td>\n",
       "      <td>Home Office</td>\n",
       "      <td>Valinhos</td>\n",
       "      <td>São Paulo</td>\n",
       "      <td>Brazil</td>\n",
       "      <td>LATAM</td>\n",
       "      <td>South</td>\n",
       "      <td>Acco Index Tab, Economy</td>\n",
       "      <td>13.440</td>\n",
       "      <td>2</td>\n",
       "      <td>0.0</td>\n",
       "      <td>2.4000</td>\n",
       "      <td>0.00</td>\n",
       "      <td>1</td>\n",
       "      <td>6.720</td>\n",
       "    </tr>\n",
       "    <tr>\n",
       "      <th>51289</th>\n",
       "      <td>Second Class</td>\n",
       "      <td>Consumer</td>\n",
       "      <td>Tipitapa</td>\n",
       "      <td>Managua</td>\n",
       "      <td>Nicaragua</td>\n",
       "      <td>LATAM</td>\n",
       "      <td>Central</td>\n",
       "      <td>Eaton Computer Printout Paper, 8.5 x 11</td>\n",
       "      <td>61.380</td>\n",
       "      <td>3</td>\n",
       "      <td>0.0</td>\n",
       "      <td>1.8000</td>\n",
       "      <td>0.00</td>\n",
       "      <td>2</td>\n",
       "      <td>20.460</td>\n",
       "    </tr>\n",
       "  </tbody>\n",
       "</table>\n",
       "<p>51290 rows × 15 columns</p>\n",
       "</div>"
      ],
      "text/plain": [
       "            Ship Mode      Segment           City            State  \\\n",
       "0            Same Day     Consumer  New York City         New York   \n",
       "1        Second Class    Corporate     Wollongong  New South Wales   \n",
       "2         First Class     Consumer       Brisbane       Queensland   \n",
       "3         First Class  Home Office         Berlin           Berlin   \n",
       "4            Same Day     Consumer          Dakar            Dakar   \n",
       "...               ...          ...            ...              ...   \n",
       "51285        Same Day    Corporate           Kure        Hiroshima   \n",
       "51286  Standard Class     Consumer        Houston            Texas   \n",
       "51287        Same Day  Home Office         Oxnard       California   \n",
       "51288  Standard Class  Home Office       Valinhos        São Paulo   \n",
       "51289    Second Class     Consumer       Tipitapa          Managua   \n",
       "\n",
       "             Country  Market      Region  \\\n",
       "0      United States      US        East   \n",
       "1          Australia    APAC     Oceania   \n",
       "2          Australia    APAC     Oceania   \n",
       "3            Germany      EU     Central   \n",
       "4            Senegal  Africa      Africa   \n",
       "...              ...     ...         ...   \n",
       "51285          Japan    APAC  North Asia   \n",
       "51286  United States      US     Central   \n",
       "51287  United States      US        West   \n",
       "51288         Brazil   LATAM       South   \n",
       "51289      Nicaragua   LATAM     Central   \n",
       "\n",
       "                                            Product Name     Sales  Quantity  \\\n",
       "0      Plantronics CS510 - Over-the-Head monaural Wir...  2309.650         7   \n",
       "1              Novimex Executive Leather Armchair, Black  3709.395         9   \n",
       "2                      Nokia Smart Phone, with Caller ID  5175.171         9   \n",
       "3                         Motorola Smart Phone, Cordless  2892.510         5   \n",
       "4                         Sharp Wireless Fax, High-Speed  2832.960         8   \n",
       "...                                                  ...       ...       ...   \n",
       "51285                      Advantus Thumb Tacks, 12 Pack    65.100         5   \n",
       "51286  Hoover Replacement Belt for Commercial Guardsm...     0.444         1   \n",
       "51287       #10- 4 1/8\" x 9 1/2\" Security-Tint Envelopes    22.920         3   \n",
       "51288                            Acco Index Tab, Economy    13.440         2   \n",
       "51289            Eaton Computer Printout Paper, 8.5 x 11    61.380         3   \n",
       "\n",
       "       Discount    Profit  Shipping Cost  Order Priority  Item Value  \n",
       "0           0.0  762.1845         933.57               0     329.950  \n",
       "1           0.1 -288.7650         923.63               0     412.155  \n",
       "2           0.1  919.9710         915.49               1     575.019  \n",
       "3           0.1  -96.5400         910.16               1     578.502  \n",
       "4           0.0  311.5200         903.04               0     354.120  \n",
       "...         ...       ...            ...             ...         ...  \n",
       "51285       0.0    4.5000           0.01               1      13.020  \n",
       "51286       0.8   -1.1100           0.01               1       0.444  \n",
       "51287       0.0   11.2308           0.01               2       7.640  \n",
       "51288       0.0    2.4000           0.00               1       6.720  \n",
       "51289       0.0    1.8000           0.00               2      20.460  \n",
       "\n",
       "[51290 rows x 15 columns]"
      ]
     },
     "execution_count": 50,
     "metadata": {},
     "output_type": "execute_result"
    }
   ],
   "source": [
    "dataFrame[\"Order Priority\"].replace(\"Critical\",0,inplace=True)\n",
    "dataFrame[\"Order Priority\"].replace(\"Medium\",1,inplace=True)\n",
    "dataFrame[\"Order Priority\"].replace(\"High\",2,inplace=True)\n",
    "dataFrame[\"Order Priority\"].replace(\"Low\",3,inplace=True)\n",
    "dataFrame"
   ]
  },
  {
   "cell_type": "code",
   "execution_count": 51,
   "id": "a70b0332",
   "metadata": {},
   "outputs": [
    {
     "data": {
      "text/plain": [
       "['Same Day',\n",
       " 'Consumer',\n",
       " 'New York City',\n",
       " 'New York',\n",
       " 'United States',\n",
       " 'US',\n",
       " 'East',\n",
       " 'Plantronics CS510 - Over-the-Head monaural Wireless Headset System',\n",
       " 2309.65,\n",
       " 7,\n",
       " 0.0,\n",
       " 762.1845,\n",
       " 933.57,\n",
       " 0,\n",
       " 329.95]"
      ]
     },
     "execution_count": 51,
     "metadata": {},
     "output_type": "execute_result"
    }
   ],
   "source": [
    "dataFrame[\"Item Value\"]=dataFrame[\"Sales\"]/dataFrame[\"Quantity\"] \n",
    "list(dataFrame.iloc[0])"
   ]
  },
  {
   "cell_type": "code",
   "execution_count": 52,
   "id": "a9d4d3cd",
   "metadata": {},
   "outputs": [
    {
     "data": {
      "text/plain": [
       "array(['Plantronics CS510 - Over-the-Head monaural Wireless Headset System',\n",
       "       'Novimex Executive Leather Armchair, Black',\n",
       "       'Nokia Smart Phone, with Caller ID', ...,\n",
       "       'Kleencut Forged Office Shears by Acme United Corporation',\n",
       "       'Holmes Visible Mist Ultrasonic Humidifier with 2.3-Gallon Output per Day, Replacement Filter',\n",
       "       'Eureka Disposable Bags for Sanitaire Vibra Groomer I Upright Vac'],\n",
       "      dtype=object)"
      ]
     },
     "execution_count": 52,
     "metadata": {},
     "output_type": "execute_result"
    }
   ],
   "source": [
    "dataFrame[\"Product Name\"].unique()"
   ]
  },
  {
   "cell_type": "code",
   "execution_count": 53,
   "id": "01c4ca9a",
   "metadata": {},
   "outputs": [
    {
     "data": {
      "text/plain": [
       "Index(['Ship Mode', 'Segment', 'City', 'State', 'Country', 'Market', 'Region',\n",
       "       'Product Name', 'Sales', 'Quantity', 'Discount', 'Profit',\n",
       "       'Shipping Cost', 'Order Priority', 'Item Value'],\n",
       "      dtype='object')"
      ]
     },
     "execution_count": 53,
     "metadata": {},
     "output_type": "execute_result"
    }
   ],
   "source": [
    "x=dataFrame.drop(\"Order Priority\",axis=1)\n",
    "y=dataFrame[\"Order Priority\"]\n",
    "dataFrame.columns"
   ]
  },
  {
   "cell_type": "code",
   "execution_count": 54,
   "id": "6e8de3ab",
   "metadata": {},
   "outputs": [
    {
     "data": {
      "text/plain": [
       "array(['Second Class', 'Consumer', 'Bandung', 'Jawa Barat', 'Indonesia',\n",
       "       'APAC', 'Southeast Asia', 'Hamilton Beach Refrigerator, Black',\n",
       "       2487.8088, 6, 0.17, -269.7912, 562.14, 414.6348], dtype=object)"
      ]
     },
     "execution_count": 54,
     "metadata": {},
     "output_type": "execute_result"
    }
   ],
   "source": [
    "x.iloc[85].values"
   ]
  },
  {
   "cell_type": "code",
   "execution_count": 55,
   "id": "80ce2668",
   "metadata": {
    "scrolled": false
   },
   "outputs": [
    {
     "name": "stdout",
     "output_type": "stream",
     "text": [
      "finished\n"
     ]
    }
   ],
   "source": [
    "#Turn the categories into numbers\n",
    "from sklearn.preprocessing import OneHotEncoder\n",
    "from sklearn.compose import ColumnTransformer\n",
    "from sklearn.model_selection import train_test_split\n",
    "import json\n",
    "\n",
    "categorical_features=[\"Ship Mode\",\"Segment\",\"City\",\"State\",\"Country\",\"Market\",\"Region\",\"Product Name\"]\n",
    "# one_hot=OneHotEncoder()\n",
    "# transformer=ColumnTransformer([(\n",
    "#                                 \"one_hot\",\n",
    "#                                 one_hot,\n",
    "#                                 categorical_features\n",
    "#                              )],\n",
    "#                                 remainder=\"passthrough\"\n",
    "#                             )\n",
    "# transformed_x = transformer.fit_transform(x)\n",
    "# pd.DataFrame(transformed_x)\n",
    "final_out_data={}\n",
    "for i in categorical_features:\n",
    "    unique_values=list(x[i].unique())\n",
    "    for j in unique_values:\n",
    "        if(i in final_out_data):\n",
    "            final_out_data[i][j]=unique_values.index(j)\n",
    "        else:\n",
    "            final_out_data[i]={}\n",
    "            final_out_data[i][j]=unique_values.index(j)\n",
    "        x[i].replace(to_replace=j,value=int(unique_values.index(j)),inplace=True) \n",
    "\n",
    "import json\n",
    "with open('data.json', 'w', encoding='utf-8') as f:\n",
    "    json.dump(final_out_data, f, ensure_ascii=False, indent=4)\n",
    "print(\"finished\")"
   ]
  },
  {
   "cell_type": "code",
   "execution_count": 88,
   "id": "2a573b03",
   "metadata": {},
   "outputs": [],
   "source": [
    "np.random.seed(40)\n",
    "x_train,x_test,y_train,y_test=train_test_split(x,y,train_size=0.2)"
   ]
  },
  {
   "cell_type": "code",
   "execution_count": 89,
   "id": "6e03bc25",
   "metadata": {},
   "outputs": [
    {
     "data": {
      "text/plain": [
       "((10258, 14), (41032, 14), (10258,), (41032,))"
      ]
     },
     "execution_count": 89,
     "metadata": {},
     "output_type": "execute_result"
    }
   ],
   "source": [
    "x_train.shape, x_test.shape, y_train.shape, y_test.shape"
   ]
  },
  {
   "cell_type": "code",
   "execution_count": 90,
   "id": "a1b630af",
   "metadata": {},
   "outputs": [],
   "source": [
    "from sklearn.ensemble import RandomForestClassifier\n",
    "clf=RandomForestClassifier(n_estimators=100)"
   ]
  },
  {
   "cell_type": "code",
   "execution_count": 91,
   "id": "783c7633",
   "metadata": {},
   "outputs": [],
   "source": [
    "clf.fit(x_train,y_train);"
   ]
  },
  {
   "cell_type": "code",
   "execution_count": 92,
   "id": "743d6d75",
   "metadata": {},
   "outputs": [
    {
     "data": {
      "text/plain": [
       "array([1, 2, 1, ..., 2, 1, 2], dtype=int64)"
      ]
     },
     "execution_count": 92,
     "metadata": {},
     "output_type": "execute_result"
    }
   ],
   "source": [
    "y_preds=clf.predict(x_test) \n",
    "y_preds"
   ]
  },
  {
   "cell_type": "code",
   "execution_count": 93,
   "id": "638bc0d4",
   "metadata": {},
   "outputs": [
    {
     "data": {
      "text/plain": [
       "0.6824673425619029"
      ]
     },
     "execution_count": 93,
     "metadata": {},
     "output_type": "execute_result"
    }
   ],
   "source": [
    "clf.score(x_test,y_test)"
   ]
  },
  {
   "cell_type": "code",
   "execution_count": 94,
   "id": "32a1dda0",
   "metadata": {},
   "outputs": [
    {
     "data": {
      "text/plain": [
       "0.6824673425619029"
      ]
     },
     "execution_count": 94,
     "metadata": {},
     "output_type": "execute_result"
    }
   ],
   "source": [
    "from sklearn.metrics import classification_report,confusion_matrix,accuracy_score\n",
    "accuracy_score(y_test,y_preds)"
   ]
  },
  {
   "cell_type": "code",
   "execution_count": 95,
   "id": "e2d9ccaf",
   "metadata": {},
   "outputs": [
    {
     "data": {
      "text/plain": [
       "0.6808344706570482"
      ]
     },
     "execution_count": 95,
     "metadata": {},
     "output_type": "execute_result"
    }
   ],
   "source": [
    "import pickle\n",
    "file = \"finalModel.pkl\";\n",
    "fileObject=open(file,\"wb\");\n",
    "pickle.dump(clf,fileObject);\n",
    "fileObject.close();\n",
    "fileObject2=open(file,\"rb\");\n",
    "model=pickle.load(fileObject2,encoding='binary');\n",
    "model.fit(x_train,np.ravel(y_train,order='C')); \n",
    "model.score(x_test,y_test)"
   ]
  },
  {
   "cell_type": "code",
   "execution_count": null,
   "id": "da0e5578",
   "metadata": {},
   "outputs": [],
   "source": []
  }
 ],
 "metadata": {
  "kernelspec": {
   "display_name": "Python 3 (ipykernel)",
   "language": "python",
   "name": "python3"
  },
  "language_info": {
   "codemirror_mode": {
    "name": "ipython",
    "version": 3
   },
   "file_extension": ".py",
   "mimetype": "text/x-python",
   "name": "python",
   "nbconvert_exporter": "python",
   "pygments_lexer": "ipython3",
   "version": "3.9.12"
  }
 },
 "nbformat": 4,
 "nbformat_minor": 5
}
