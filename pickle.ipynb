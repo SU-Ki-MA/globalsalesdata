{
 "cells": [
  {
   "cell_type": "code",
   "execution_count": null,
   "id": "5e19a6ae",
   "metadata": {},
   "outputs": [],
   "source": [
    "\n"
   ]
  },
  {
   "cell_type": "code",
   "execution_count": 8,
   "id": "6959d25a",
   "metadata": {},
   "outputs": [
    {
     "name": "stdout",
     "output_type": "stream",
     "text": [
      "[2]\n"
     ]
    }
   ],
   "source": [
    "import json\n",
    "import pickle \n",
    "import pandas as pd\n",
    "from sklearn.preprocessing import OneHotEncoder\n",
    "from sklearn.compose import ColumnTransformer\n",
    "from sklearn.model_selection import train_test_split\n",
    "\n",
    "def findAccuracy(value):\n",
    "    col_name=['Ship Mode', 'Segment', 'City', 'State', 'Country', 'Market', 'Region',\n",
    "       'Category', 'Sub-Category', 'Product Name', 'Sales', 'Quantity',\n",
    "       'Discount', 'Profit', 'Shipping Cost', 'Item Value']\n",
    "    final_data={}\n",
    "    for i in range(len(col_name)):\n",
    "        final_data[col_name[i]]=[value[i]] \n",
    "    #data frame\n",
    "    dataFrame=pd.DataFrame(final_data)\n",
    "    # splitting target and feature variables \n",
    "    #removing the alphabets\n",
    "    categorical_features=[\"Ship Mode\",\"Segment\",\"City\",\"State\",\"Country\",\"Market\",\"Region\",\"Category\",\"Sub-Category\",\"Product Name\"]\n",
    "    #converting string to in\n",
    "    with open('data.json',encoding=\"utf8\") as f:\n",
    "        final_out_data = json.load(f) \n",
    "        for i in categorical_features: \n",
    "                dataFrame[i]=final_out_data[i][dataFrame.get(i)[0]] \n",
    "    file = \"finalModel.pkl\";\n",
    "    fileObject2=open(file,\"rb\");\n",
    "    model=pickle.load(fileObject2,encoding='binary');  \n",
    "    print(model.predict(dataFrame))\n",
    "value=['Second Class', 'Consumer', 'Bandung', 'Jawa Barat', 'Indonesia',\n",
    "       'APAC', 'Southeast Asia', 'Office Supplies', 'Appliances',\n",
    "       'Hamilton Beach Refrigerator, Black', 2487.8088, 6, 0.17,\n",
    "       -269.7912, 562.14, 414.6348]\n",
    "findAccuracy(value)\n",
    "    "
   ]
  },
  {
   "cell_type": "code",
   "execution_count": null,
   "id": "927095a5",
   "metadata": {},
   "outputs": [],
   "source": []
  },
  {
   "cell_type": "code",
   "execution_count": null,
   "id": "6ab4ad74",
   "metadata": {},
   "outputs": [],
   "source": []
  },
  {
   "cell_type": "code",
   "execution_count": null,
   "id": "d7a80228",
   "metadata": {},
   "outputs": [],
   "source": []
  }
 ],
 "metadata": {
  "kernelspec": {
   "display_name": "Python 3 (ipykernel)",
   "language": "python",
   "name": "python3"
  },
  "language_info": {
   "codemirror_mode": {
    "name": "ipython",
    "version": 3
   },
   "file_extension": ".py",
   "mimetype": "text/x-python",
   "name": "python",
   "nbconvert_exporter": "python",
   "pygments_lexer": "ipython3",
   "version": "3.9.12"
  }
 },
 "nbformat": 4,
 "nbformat_minor": 5
}
